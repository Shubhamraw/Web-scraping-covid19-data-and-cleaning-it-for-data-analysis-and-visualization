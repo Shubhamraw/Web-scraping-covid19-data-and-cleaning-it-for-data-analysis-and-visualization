{
 "cells": [
  {
   "cell_type": "code",
   "execution_count": 1,
   "metadata": {},
   "outputs": [],
   "source": [
    "import requests\n",
    "import pandas as pd\n",
    "import numpy as np\n",
    "from bs4 import BeautifulSoup"
   ]
  },
  {
   "cell_type": "code",
   "execution_count": 46,
   "metadata": {},
   "outputs": [],
   "source": [
    "def data_downloader():\n",
    "        \n",
    "    #testing the url and sending request to grab HTML Data\n",
    "    url = \"https://www.worldometers.info/coronavirus/#countries\"\n",
    "    html_page = requests.get(url).text\n",
    "    soup = BeautifulSoup(html_page,'lxml')\n",
    "    \n",
    "    get_table = soup.find(\"table\",id=\"main_table_countries_today\")\n",
    "    get_table_data = get_table.tbody.find_all(\"tr\")\n",
    "\n",
    "    dic = {}\n",
    "\n",
    "    for i in range(len(get_table_data)):\n",
    "        try:\n",
    "            key = get_table_data[i].find_all(\"a\",href =True)[0].string\n",
    "        except:\n",
    "            key = get_table_data[i].find_all(\"td\")[0].string\n",
    "\n",
    "        values =[j.string for j in get_table_data[i].find_all('td')]\n",
    "\n",
    "        dic[key] = values\n",
    "        \n",
    "    column_names = ['Total Cases', 'New Cases', 'Total Deaths', 'New Deaths', 'Total Recovered', 'Active Cases', 'Serious Critical',\n",
    "                    'Tot Cases/1M pop', 'Deaths/1M pop']\n",
    "\n",
    "    df = pd.DataFrame(dic).iloc[2:,:].T.iloc[:,:9]\n",
    "\n",
    "    df.index.name = \"Country\"\n",
    "    \n",
    "    df.columns = column_names\n",
    "\n",
    "    df.index.values[0]= 'World'\n",
    "    \n",
    "    df.to_csv(\"coronalivetry.csv\")\n",
    "    print(\"file saved\")"
   ]
  },
  {
   "cell_type": "code",
   "execution_count": 49,
   "metadata": {},
   "outputs": [
    {
     "name": "stdout",
     "output_type": "stream",
     "text": [
      "file saved\n"
     ]
    }
   ],
   "source": [
    "import os\n",
    "try:\n",
    "    os.remove('C:/Users/Shubham Rawat/Python/Covid project/coronalivetry.csv')\n",
    "except:\n",
    "    data_downloader()"
   ]
  },
  {
   "cell_type": "code",
   "execution_count": null,
   "metadata": {},
   "outputs": [],
   "source": []
  },
  {
   "cell_type": "code",
   "execution_count": null,
   "metadata": {},
   "outputs": [],
   "source": []
  }
 ],
 "metadata": {
  "kernelspec": {
   "display_name": "Python 3",
   "language": "python",
   "name": "python3"
  },
  "language_info": {
   "codemirror_mode": {
    "name": "ipython",
    "version": 3
   },
   "file_extension": ".py",
   "mimetype": "text/x-python",
   "name": "python",
   "nbconvert_exporter": "python",
   "pygments_lexer": "ipython3",
   "version": "3.7.7"
  }
 },
 "nbformat": 4,
 "nbformat_minor": 4
}
