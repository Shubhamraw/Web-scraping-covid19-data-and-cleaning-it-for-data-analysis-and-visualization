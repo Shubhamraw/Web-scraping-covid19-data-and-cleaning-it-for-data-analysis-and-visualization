{
 "cells": [
  {
   "cell_type": "code",
   "execution_count": 17,
   "metadata": {},
   "outputs": [
    {
     "ename": "SyntaxError",
     "evalue": "invalid syntax (<ipython-input-17-444962626eac>, line 1)",
     "output_type": "error",
     "traceback": [
      "\u001b[1;36m  File \u001b[1;32m\"<ipython-input-17-444962626eac>\"\u001b[1;36m, line \u001b[1;32m1\u001b[0m\n\u001b[1;33m    <img src=\"Covid19_guidelines_imag.png\" style=\"width: 800px;\"/>\u001b[0m\n\u001b[1;37m    ^\u001b[0m\n\u001b[1;31mSyntaxError\u001b[0m\u001b[1;31m:\u001b[0m invalid syntax\n"
     ]
    }
   ],
   "source": [
    "<img src=\"Covid19_guidelines_imag.png\" style=\"width: 800px;\"/> "
   ]
  },
  {
   "cell_type": "code",
   "execution_count": 1,
   "metadata": {},
   "outputs": [],
   "source": [
    "#package for parsing Html and XML documents  (in the sense analysing the string or text into logical syntactic roles/ Computing)\n",
    "from bs4 import BeautifulSoup \n",
    "import requests # it allows us to send HTTP/1.1 requests \n",
    "\n",
    "#it provide functionality to both read and write csv file\n",
    "import csv"
   ]
  },
  {
   "cell_type": "code",
   "execution_count": 2,
   "metadata": {},
   "outputs": [],
   "source": [
    "# lets go to the worldmeter webapge here we need to copy this url\n",
    "url = 'https://www.worldometers.info/coronavirus/'"
   ]
  },
  {
   "cell_type": "code",
   "execution_count": 3,
   "metadata": {},
   "outputs": [],
   "source": [
    "#testing the url and sending request to grab HTML Data\n",
    "html_page = requests.get(url).text "
   ]
  },
  {
   "cell_type": "code",
   "execution_count": 4,
   "metadata": {},
   "outputs": [],
   "source": [
    "# BeautifulSoup object on the html, lxml method is a Python library which allows for easy handling of XML and HTML files, and can also be used for web scraping\n",
    "soup = BeautifulSoup(html_page,'lxml') #BeautifulSoup Parser"
   ]
  },
  {
   "cell_type": "code",
   "execution_count": 5,
   "metadata": {},
   "outputs": [],
   "source": [
    "#we get this particular table/ we can call it a table element and parse it in a clena and proper way"
   ]
  },
  {
   "cell_type": "code",
   "execution_count": 6,
   "metadata": {},
   "outputs": [],
   "source": [
    "# we are going inspect the coronaviruse data table and get the table with all of the countries/stats\n",
    "table = soup.find('table',id=\"main_table_countries_today\")\n",
    "#table"
   ]
  },
  {
   "cell_type": "markdown",
   "metadata": {},
   "source": [
    "* tr = table read \n",
    "* th = table header\n",
    "* td = table data"
   ]
  },
  {
   "cell_type": "code",
   "execution_count": 8,
   "metadata": {},
   "outputs": [],
   "source": [
    "# get the table header in th header\n",
    "table_header = table.find('thead').find_all('th')\n",
    "#table_header"
   ]
  },
  {
   "cell_type": "code",
   "execution_count": 9,
   "metadata": {},
   "outputs": [],
   "source": [
    "#header\n",
    "header = [] #the raw data from the header \n",
    "new_list = [] #the data after parsing it to remove newlines / other unicode characters\n",
    "\n",
    "# get the data from the header and add it to the list\n",
    "for th in table_header:\n",
    "    header.append(th.text)\n",
    "    \n",
    "# strip the new lines and add it to the new list\n",
    "for element in header:\n",
    "    new_list.append(element.strip())"
   ]
  },
  {
   "cell_type": "code",
   "execution_count": 10,
   "metadata": {},
   "outputs": [],
   "source": [
    "#print(header)\n",
    "#print(new_list)"
   ]
  },
  {
   "cell_type": "code",
   "execution_count": 11,
   "metadata": {},
   "outputs": [],
   "source": [
    "import re\n",
    "\n",
    "newlist1 =[]\n",
    "for i in new_list:\n",
    "    newlist1.append(re.sub('([A-Z])', r' \\1', i).lstrip())"
   ]
  },
  {
   "cell_type": "code",
   "execution_count": 12,
   "metadata": {},
   "outputs": [],
   "source": [
    "# remove all new lines / weird unicode chars\n",
    "clist=[]\n",
    "for i,data in enumerate(newlist1):\n",
    "    if data.find('\\xa0'):\n",
    "        clist.append(data.replace('\\xa0', ''))\n",
    "    elif data.find('\\n'):\n",
    "        clist.append(data.replace('\\n',''))\n",
    "    else:\n",
    "        clist.append(data)\n",
    "#print(clist)"
   ]
  },
  {
   "cell_type": "code",
   "execution_count": 13,
   "metadata": {},
   "outputs": [],
   "source": [
    "# go through each row in the table\n",
    "for row in table.find_all('tr'):\n",
    "\n",
    "    # csvRow list used to hold the data in each row\n",
    "    # empty after the data is written to the csv\n",
    "    csvRow = []\n",
    "\n",
    "    # get the data and add it to the list\n",
    "    for data in row.find_all('td'):\n",
    "        csvRow.append(data.text)\n",
    "#print(csvRow)"
   ]
  },
  {
   "cell_type": "code",
   "execution_count": 14,
   "metadata": {},
   "outputs": [],
   "source": [
    "#len(csvRow)"
   ]
  },
  {
   "cell_type": "code",
   "execution_count": 15,
   "metadata": {},
   "outputs": [],
   "source": [
    "# remove all \\n from the data\n",
    "for i in range(len(csvRow)):\n",
    "    csvRow[i] = csvRow[i].replace('\\n','')"
   ]
  },
  {
   "cell_type": "code",
   "execution_count": 16,
   "metadata": {},
   "outputs": [],
   "source": [
    "#print(csvRow)"
   ]
  },
  {
   "cell_type": "code",
   "execution_count": null,
   "metadata": {},
   "outputs": [],
   "source": []
  }
 ],
 "metadata": {
  "kernelspec": {
   "display_name": "Python 3",
   "language": "python",
   "name": "python3"
  },
  "language_info": {
   "codemirror_mode": {
    "name": "ipython",
    "version": 3
   },
   "file_extension": ".py",
   "mimetype": "text/x-python",
   "name": "python",
   "nbconvert_exporter": "python",
   "pygments_lexer": "ipython3",
   "version": "3.7.7"
  }
 },
 "nbformat": 4,
 "nbformat_minor": 4
}
