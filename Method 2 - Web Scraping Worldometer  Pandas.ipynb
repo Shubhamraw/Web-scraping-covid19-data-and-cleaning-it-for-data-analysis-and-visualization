{
 "cells": [
  {
   "cell_type": "code",
   "execution_count": 1,
   "metadata": {},
   "outputs": [],
   "source": [
    "# it allows us to send HTTP/1.1 requests \n",
    "import requests \n",
    "\n",
    "#data manipulation and analysis. it offers data structures and operations for manipulating numerical tables and time series\n",
    "import pandas as pd \n",
    "\n",
    "#adding support for large, multi-dimensional arrays and matrices, along with a large collection of high-level mathematical functions to operate on these arrays\n",
    "import numpy as np \n",
    "\n",
    "#package for parsing Html and XML documents  (in the sense analysing the string or text into logical syntactic roles/ Computing)\n",
    "from bs4 import BeautifulSoup"
   ]
  },
  {
   "cell_type": "code",
   "execution_count": 6,
   "metadata": {},
   "outputs": [],
   "source": [
    "def fetch_data():\n",
    "        \n",
    "    #testing the url and sending request to grab HTML Data\n",
    "    url = \"https://www.worldometers.info/coronavirus/#countries\"\n",
    "    html_page = requests.get(url).text #here we made request to get the html data from the url and we going to store it as a text\n",
    "    soup = BeautifulSoup(html_page,'lxml') #It creates a parse tree for parsed pages where we can easlily find the branches\n",
    "    \n",
    "    table = soup.find(\"table\",id=\"main_table_countries_today\") #we are going to find the table containing whole the data on this whole cluster of data\n",
    "    \n",
    "    table_data = table.tbody.find_all(\"tr\") #here we get the table data\n",
    "\n",
    "    dic = {} #we need a dictionary to store data Ex: country as a key with its data's as a value\n",
    "\n",
    "    for i in range(len(table_data)): #from beginn gning to the end\n",
    "        try:\n",
    "            key = table_data[i].find_all(\"a\",href =True)[0].string\n",
    "        except:\n",
    "            key = table_data[i].find_all(\"td\")[0].string\n",
    "\n",
    "        values =[j.string for j in table_data[i].find_all('td')]\n",
    "\n",
    "        dic[key] = values\n",
    "        \n",
    "    column_names = ['Total Cases', 'New Cases', 'Total Deaths', 'New Deaths', 'Total Recovered', 'Active Cases', 'Serious Critical',\n",
    "                    'Tot Cases/1M pop', 'Deaths/1M pop']\n",
    "\n",
    "    df = pd.DataFrame(dic).iloc[2:,:].T.iloc[:,:9]\n",
    "\n",
    "    df.index.name = \"Country\"\n",
    "    \n",
    "    df.columns = column_names\n",
    "\n",
    "    df.index.values[0]= 'World'\n",
    "    \n",
    "    df.to_csv(\"coronadatasetm2.csv\")\n",
    "    print(\"file saved\")"
   ]
  },
  {
   "cell_type": "code",
   "execution_count": 7,
   "metadata": {},
   "outputs": [
    {
     "name": "stdout",
     "output_type": "stream",
     "text": [
      "file saved\n"
     ]
    }
   ],
   "source": [
    "import os\n",
    "try:\n",
    "    os.remove('C:/Users/Shubham Rawat/Python/Covid project/coronadatasetm2.csv')\n",
    "except:\n",
    "    fetch_data()"
   ]
  },
  {
   "cell_type": "code",
   "execution_count": null,
   "metadata": {},
   "outputs": [],
   "source": []
  },
  {
   "cell_type": "code",
   "execution_count": null,
   "metadata": {},
   "outputs": [],
   "source": []
  }
 ],
 "metadata": {
  "kernelspec": {
   "display_name": "Python 3",
   "language": "python",
   "name": "python3"
  },
  "language_info": {
   "codemirror_mode": {
    "name": "ipython",
    "version": 3
   },
   "file_extension": ".py",
   "mimetype": "text/x-python",
   "name": "python",
   "nbconvert_exporter": "python",
   "pygments_lexer": "ipython3",
   "version": "3.7.7"
  }
 },
 "nbformat": 4,
 "nbformat_minor": 4
}
