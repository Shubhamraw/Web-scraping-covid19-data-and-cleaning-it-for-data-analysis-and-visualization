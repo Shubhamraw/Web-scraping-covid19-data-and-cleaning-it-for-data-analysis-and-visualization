{
 "cells": [
  {
   "cell_type": "code",
   "execution_count": 1,
   "metadata": {},
   "outputs": [],
   "source": [
    "# it allows us to send HTTP/1.1 requests \n",
    "import requests \n",
    "\n",
    "#data manipulation and analysis. it offers data structures and operations for manipulating numerical tables and time series\n",
    "import pandas as pd \n",
    "\n",
    "#adding support for large, multi-dimensional arrays and matrices, along with a large collection of high-level mathematical functions to operate on these arrays\n",
    "import numpy as np \n",
    "\n",
    "#package for parsing Html and XML documents  (in the sense analysing the string or text into logical syntactic roles/ Computing)\n",
    "from bs4 import BeautifulSoup"
   ]
  },
  {
   "cell_type": "code",
   "execution_count": 2,
   "metadata": {},
   "outputs": [],
   "source": [
    "#testing the url and sending request to grab HTML Data\n",
    "url = \"https://www.worldometers.info/coronavirus/#countries\"\n",
    "html_page = requests.get(url).text #here we made request to get the html data from the url and we going to store it as a text\n",
    "#html_page"
   ]
  },
  {
   "cell_type": "code",
   "execution_count": 3,
   "metadata": {},
   "outputs": [],
   "source": [
    "soup = BeautifulSoup(html_page,'lxml') #It creates a parse tree for parsed pages where we can easlily find the branches\n",
    "#soup"
   ]
  },
  {
   "cell_type": "code",
   "execution_count": 4,
   "metadata": {},
   "outputs": [],
   "source": [
    "table = soup.find(\"table\",id=\"main_table_countries_today\") #we are going to find the table containing whole the data on this whole cluster of data\n",
    "#table"
   ]
  },
  {
   "cell_type": "code",
   "execution_count": 5,
   "metadata": {},
   "outputs": [],
   "source": [
    "table_data = table.tbody.find_all(\"tr\") #here we get the table data\n",
    "#table_data"
   ]
  },
  {
   "cell_type": "code",
   "execution_count": 6,
   "metadata": {},
   "outputs": [],
   "source": [
    "dic = {} #we need a dictionary to store data Ex: country as a key with its data's as a value\n",
    "\n",
    "for i in range(len(table_data)): #from beginn gning to the end\n",
    " \n",
    "    key = table_data[i].find_all(\"td\")[0].string\n",
    "\n",
    "        \n",
    "    #print(key)"
   ]
  },
  {
   "cell_type": "code",
   "execution_count": 8,
   "metadata": {},
   "outputs": [
    {
     "ename": "IndexError",
     "evalue": "list index out of range",
     "output_type": "error",
     "traceback": [
      "\u001b[1;31m---------------------------------------------------------------------------\u001b[0m",
      "\u001b[1;31mIndexError\u001b[0m                                Traceback (most recent call last)",
      "\u001b[1;32m<ipython-input-8-a866fd3963b9>\u001b[0m in \u001b[0;36m<module>\u001b[1;34m\u001b[0m\n\u001b[0;32m      3\u001b[0m \u001b[1;32mfor\u001b[0m \u001b[0mi\u001b[0m \u001b[1;32min\u001b[0m \u001b[0mrange\u001b[0m\u001b[1;33m(\u001b[0m\u001b[0mlen\u001b[0m\u001b[1;33m(\u001b[0m\u001b[0mtable_data\u001b[0m\u001b[1;33m)\u001b[0m\u001b[1;33m)\u001b[0m\u001b[1;33m:\u001b[0m \u001b[1;31m#from beginn gning to the end\u001b[0m\u001b[1;33m\u001b[0m\u001b[1;33m\u001b[0m\u001b[0m\n\u001b[0;32m      4\u001b[0m     \u001b[1;31m#The try block lets you test a block of code for errors. The except block lets you handle the error\u001b[0m\u001b[1;33m\u001b[0m\u001b[1;33m\u001b[0m\u001b[1;33m\u001b[0m\u001b[0m\n\u001b[1;32m----> 5\u001b[1;33m     \u001b[0mkey\u001b[0m \u001b[1;33m=\u001b[0m \u001b[0mtable_data\u001b[0m\u001b[1;33m[\u001b[0m\u001b[0mi\u001b[0m\u001b[1;33m]\u001b[0m\u001b[1;33m.\u001b[0m\u001b[0mfind_all\u001b[0m\u001b[1;33m(\u001b[0m\u001b[1;34m\"a\"\u001b[0m\u001b[1;33m,\u001b[0m\u001b[0mhref\u001b[0m \u001b[1;33m=\u001b[0m \u001b[1;32mTrue\u001b[0m\u001b[1;33m)\u001b[0m\u001b[1;33m[\u001b[0m\u001b[1;36m0\u001b[0m\u001b[1;33m]\u001b[0m\u001b[1;33m.\u001b[0m\u001b[0mstring\u001b[0m\u001b[1;33m\u001b[0m\u001b[1;33m\u001b[0m\u001b[0m\n\u001b[0m\u001b[0;32m      6\u001b[0m \u001b[1;33m\u001b[0m\u001b[0m\n\u001b[0;32m      7\u001b[0m \u001b[1;33m\u001b[0m\u001b[0m\n",
      "\u001b[1;31mIndexError\u001b[0m: list index out of range"
     ]
    }
   ],
   "source": [
    "dic = {} #we need a dictionary to store data Ex: country as a key with its data's as a value\n",
    "\n",
    "for i in range(len(table_data)): #from beginn gning to the end\n",
    "    #The try block lets you test a block of code for errors. The except block lets you handle the error\n",
    "    key = table_data[i].find_all(\"a\",href = True)[0].string\n",
    "\n",
    "        \n",
    "    #print(key)"
   ]
  },
  {
   "cell_type": "code",
   "execution_count": 9,
   "metadata": {},
   "outputs": [],
   "source": [
    "#The finally block lets you execute code,\n",
    "\n",
    "dic = {} #we need a dictionary to store data Ex: country as a key with its data's as a value\n",
    "\n",
    "for i in range(len(table_data)): #from beginn gning to the end\n",
    "    try:\n",
    "        key = table_data[i].find_all(\"a\",href =True)[0].string\n",
    "    except:\n",
    "        key = table_data[i].find_all(\"td\")[0].string\n",
    "    \n",
    "    #print(key)"
   ]
  },
  {
   "cell_type": "code",
   "execution_count": 10,
   "metadata": {},
   "outputs": [],
   "source": [
    "#The finally block lets you execute code,\n",
    "\n",
    "dic = {} #we need a dictionary to store data Ex: country as a key with its data's as a value\n",
    "\n",
    "for i in range(len(table_data)): #from beginn gning to the end\n",
    "    try:\n",
    "        key = table_data[i].find_all(\"a\",href =True)[0].string\n",
    "    except:\n",
    "        key = table_data[i].find_all(\"td\")[0].string\n",
    "    \n",
    "    values =[j.string for j in table_data[i].find_all('td')]\n",
    "    #print(key)\n",
    "    #print(values)\n",
    "    \n",
    "    dic[key] = values"
   ]
  },
  {
   "cell_type": "code",
   "execution_count": 11,
   "metadata": {},
   "outputs": [],
   "source": [
    "#dic"
   ]
  },
  {
   "cell_type": "code",
   "execution_count": 12,
   "metadata": {},
   "outputs": [],
   "source": [
    "values =[j.string for j in table_data[i].find_all('td')]\n",
    "#values"
   ]
  },
  {
   "cell_type": "code",
   "execution_count": 13,
   "metadata": {},
   "outputs": [],
   "source": [
    "column_names = ['Total Cases', 'New Cases', 'Total Deaths', 'New Deaths', 'Total Recovered', 'Active Cases', 'Serious Critical',\n",
    "                'Tot Cases/1M pop', 'Deaths/1M pop']"
   ]
  },
  {
   "cell_type": "code",
   "execution_count": 14,
   "metadata": {},
   "outputs": [],
   "source": [
    "df = pd.DataFrame(dic)\n",
    "#df"
   ]
  },
  {
   "cell_type": "code",
   "execution_count": 15,
   "metadata": {},
   "outputs": [],
   "source": [
    "df = df.iloc[2:,:]\n",
    "#df"
   ]
  },
  {
   "cell_type": "code",
   "execution_count": 16,
   "metadata": {},
   "outputs": [],
   "source": [
    "df = df.T\n",
    "#df"
   ]
  },
  {
   "cell_type": "code",
   "execution_count": 17,
   "metadata": {},
   "outputs": [],
   "source": [
    "df = df.iloc[:,:9]"
   ]
  },
  {
   "cell_type": "code",
   "execution_count": 18,
   "metadata": {},
   "outputs": [],
   "source": [
    "#df"
   ]
  },
  {
   "cell_type": "code",
   "execution_count": 19,
   "metadata": {},
   "outputs": [],
   "source": [
    "df.index.name = \"Country\"\n",
    "df.columns = column_names\n",
    "#df"
   ]
  },
  {
   "cell_type": "code",
   "execution_count": 20,
   "metadata": {},
   "outputs": [],
   "source": [
    "df.index.values[0]= 'World'\n",
    "#df"
   ]
  }
 ],
 "metadata": {
  "kernelspec": {
   "display_name": "Python 3",
   "language": "python",
   "name": "python3"
  },
  "language_info": {
   "codemirror_mode": {
    "name": "ipython",
    "version": 3
   },
   "file_extension": ".py",
   "mimetype": "text/x-python",
   "name": "python",
   "nbconvert_exporter": "python",
   "pygments_lexer": "ipython3",
   "version": "3.7.7"
  }
 },
 "nbformat": 4,
 "nbformat_minor": 4
}
